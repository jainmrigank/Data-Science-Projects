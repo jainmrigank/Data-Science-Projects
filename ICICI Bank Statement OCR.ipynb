{
 "cells": [
  {
   "cell_type": "markdown",
   "metadata": {},
   "source": [
    "IMPORTING NECESSARY LIBRARIES"
   ]
  },
  {
   "cell_type": "code",
   "execution_count": 9,
   "metadata": {},
   "outputs": [],
   "source": [
    "import pandas as pd #for DataFrame operations\n",
    "import camelot as cml #To extract tabular data from PDFs\n",
    "import PyPDF2 #To Read the text from the PDF"
   ]
  },
  {
   "cell_type": "markdown",
   "metadata": {},
   "source": [
    "USING PyPDF2 TO KNOW THE NO. OF PAGES IN THE STATEMENT"
   ]
  },
  {
   "cell_type": "code",
   "execution_count": 10,
   "metadata": {},
   "outputs": [
    {
     "data": {
      "text/plain": [
       "2"
      ]
     },
     "execution_count": 10,
     "metadata": {},
     "output_type": "execute_result"
    }
   ],
   "source": [
    "pdfObj=open('pdfDecrypted.pdf','rb')\n",
    "pdfReader=PyPDF2.PdfFileReader(pdfObj)\n",
    "pdfReader.numPages"
   ]
  },
  {
   "cell_type": "markdown",
   "metadata": {},
   "source": [
    "MAKING A COMMA SEPARATED STRING OF PAGE NUMBERS FOR USE IN CAMELOT FUNCTION"
   ]
  },
  {
   "cell_type": "code",
   "execution_count": 11,
   "metadata": {},
   "outputs": [
    {
     "data": {
      "text/plain": [
       "'1,2'"
      ]
     },
     "execution_count": 11,
     "metadata": {},
     "output_type": "execute_result"
    }
   ],
   "source": [
    "pagesStr=','.join(str(x) for x in range(1,pdfReader.numPages+1))\n",
    "pagesStr"
   ]
  },
  {
   "cell_type": "markdown",
   "metadata": {},
   "source": [
    "USING CAMELOT'S READ_PDF METHOD FOR ALL THE PAGES IN THE PDF TO EXTRACT THE TABLE IN EACH PAGE."
   ]
  },
  {
   "cell_type": "code",
   "execution_count": 13,
   "metadata": {},
   "outputs": [
    {
     "name": "stderr",
     "output_type": "stream",
     "text": [
      "UserWarning: No tables found in table area 1 [stream.py:360]\n"
     ]
    }
   ],
   "source": [
    "tables=cml.read_pdf('pdfDecrypted.pdf',flavor='stream',pages=pagesStr)"
   ]
  },
  {
   "cell_type": "markdown",
   "metadata": {},
   "source": [
    "THE METHOD RETURNS A TABLELIST OF THE TABLES FOUND IN ALL THE PAGES."
   ]
  },
  {
   "cell_type": "code",
   "execution_count": 14,
   "metadata": {},
   "outputs": [
    {
     "data": {
      "text/plain": [
       "<TableList n=2>"
      ]
     },
     "execution_count": 14,
     "metadata": {},
     "output_type": "execute_result"
    }
   ],
   "source": [
    "tables"
   ]
  },
  {
   "cell_type": "markdown",
   "metadata": {},
   "source": [
    "WE DISPLAY ALL THE TABLES FOUND BY CAMELOT"
   ]
  },
  {
   "cell_type": "code",
   "execution_count": 41,
   "metadata": {},
   "outputs": [
    {
     "data": {
      "text/html": [
       "<div>\n",
       "<style scoped>\n",
       "    .dataframe tbody tr th:only-of-type {\n",
       "        vertical-align: middle;\n",
       "    }\n",
       "\n",
       "    .dataframe tbody tr th {\n",
       "        vertical-align: top;\n",
       "    }\n",
       "\n",
       "    .dataframe thead th {\n",
       "        text-align: right;\n",
       "    }\n",
       "</style>\n",
       "<table border=\"1\" class=\"dataframe\">\n",
       "  <thead>\n",
       "    <tr style=\"text-align: right;\">\n",
       "      <th></th>\n",
       "      <th>0</th>\n",
       "      <th>1</th>\n",
       "      <th>2</th>\n",
       "      <th>3</th>\n",
       "      <th>4</th>\n",
       "      <th>5</th>\n",
       "    </tr>\n",
       "  </thead>\n",
       "  <tbody>\n",
       "    <tr>\n",
       "      <th>0</th>\n",
       "      <td></td>\n",
       "      <td>Statement of Transactions in Savings Account X...</td>\n",
       "      <td></td>\n",
       "      <td></td>\n",
       "      <td></td>\n",
       "      <td></td>\n",
       "    </tr>\n",
       "    <tr>\n",
       "      <th>1</th>\n",
       "      <td>DATE</td>\n",
       "      <td>MODE</td>\n",
       "      <td>PARTICULARS</td>\n",
       "      <td>DEPOSITS</td>\n",
       "      <td>WITHDRAWALS</td>\n",
       "      <td>BALANCE</td>\n",
       "    </tr>\n",
       "    <tr>\n",
       "      <th>2</th>\n",
       "      <td>01-06-2020</td>\n",
       "      <td></td>\n",
       "      <td>B/F</td>\n",
       "      <td></td>\n",
       "      <td></td>\n",
       "      <td>23.13</td>\n",
       "    </tr>\n",
       "    <tr>\n",
       "      <th>3</th>\n",
       "      <td>19-06-2020</td>\n",
       "      <td></td>\n",
       "      <td>UPI/017122030174/UPI/soniajain168@ok/Axis Bank...</td>\n",
       "      <td>1,000.00</td>\n",
       "      <td></td>\n",
       "      <td>1,023.13</td>\n",
       "    </tr>\n",
       "    <tr>\n",
       "      <th>4</th>\n",
       "      <td></td>\n",
       "      <td></td>\n",
       "      <td>UPI/017223057154/JIO20BR0004TLLU/jio@yesbank/Y...</td>\n",
       "      <td></td>\n",
       "      <td></td>\n",
       "      <td></td>\n",
       "    </tr>\n",
       "    <tr>\n",
       "      <th>5</th>\n",
       "      <td>20-06-2020</td>\n",
       "      <td></td>\n",
       "      <td></td>\n",
       "      <td></td>\n",
       "      <td>199.00</td>\n",
       "      <td>824.13</td>\n",
       "    </tr>\n",
       "    <tr>\n",
       "      <th>6</th>\n",
       "      <td></td>\n",
       "      <td></td>\n",
       "      <td>Ltd/</td>\n",
       "      <td></td>\n",
       "      <td></td>\n",
       "      <td></td>\n",
       "    </tr>\n",
       "    <tr>\n",
       "      <th>7</th>\n",
       "      <td>22-06-2020</td>\n",
       "      <td></td>\n",
       "      <td>UPI/017300130046/UPI/paytm-52031033@/Paytm Pay...</td>\n",
       "      <td></td>\n",
       "      <td>120.00</td>\n",
       "      <td>704.13</td>\n",
       "    </tr>\n",
       "    <tr>\n",
       "      <th>8</th>\n",
       "      <td>22-06-2020</td>\n",
       "      <td></td>\n",
       "      <td>UPI/017417267350/UPI/payzomato@hdfcb/HDFC BANK...</td>\n",
       "      <td></td>\n",
       "      <td>326.24</td>\n",
       "      <td>377.89</td>\n",
       "    </tr>\n",
       "    <tr>\n",
       "      <th>9</th>\n",
       "      <td>29-06-2020</td>\n",
       "      <td></td>\n",
       "      <td>UPI/017917810088/UPI/soniajain168@ok/Axis Bank...</td>\n",
       "      <td>500.00</td>\n",
       "      <td></td>\n",
       "      <td>877.89</td>\n",
       "    </tr>\n",
       "    <tr>\n",
       "      <th>10</th>\n",
       "      <td>29-06-2020</td>\n",
       "      <td></td>\n",
       "      <td>UPI/017977507301/NA/7701835137@payt/Kotak Mahi...</td>\n",
       "      <td></td>\n",
       "      <td>550.00</td>\n",
       "      <td>327.89</td>\n",
       "    </tr>\n",
       "    <tr>\n",
       "      <th>11</th>\n",
       "      <td>29-06-2020</td>\n",
       "      <td></td>\n",
       "      <td>UPI/017977812234/NA/7701835137@payt/Kotak Mahi...</td>\n",
       "      <td></td>\n",
       "      <td>100.00</td>\n",
       "      <td>227.89</td>\n",
       "    </tr>\n",
       "    <tr>\n",
       "      <th>12</th>\n",
       "      <td>29-06-2020</td>\n",
       "      <td></td>\n",
       "      <td>UPI/018015212198/UPI/soniajain168@ok/Axis Bank...</td>\n",
       "      <td>1,500.00</td>\n",
       "      <td></td>\n",
       "      <td>1,727.89</td>\n",
       "    </tr>\n",
       "    <tr>\n",
       "      <th>13</th>\n",
       "      <td>29-06-2020</td>\n",
       "      <td></td>\n",
       "      <td>UPI/018015194171/UPI/payzomato@hdfcb/HDFC BANK...</td>\n",
       "      <td></td>\n",
       "      <td>773.97</td>\n",
       "      <td>953.92</td>\n",
       "    </tr>\n",
       "    <tr>\n",
       "      <th>14</th>\n",
       "      <td>29-06-2020</td>\n",
       "      <td></td>\n",
       "      <td>UPI/018089053785/NA/7701835137@payt/Kotak Mahi...</td>\n",
       "      <td></td>\n",
       "      <td>600.00</td>\n",
       "      <td>353.92</td>\n",
       "    </tr>\n",
       "    <tr>\n",
       "      <th>15</th>\n",
       "      <td>29-06-2020</td>\n",
       "      <td></td>\n",
       "      <td>007201526159:Int.Pd:30-03-2020 to 28-06-2020</td>\n",
       "      <td>4.00</td>\n",
       "      <td></td>\n",
       "      <td>357.92</td>\n",
       "    </tr>\n",
       "    <tr>\n",
       "      <th>16</th>\n",
       "      <td>30-06-2020</td>\n",
       "      <td></td>\n",
       "      <td>UPI/018216287560/UPI/payzomato@hdfcb/HDFC BANK...</td>\n",
       "      <td></td>\n",
       "      <td>224.45</td>\n",
       "      <td>133.47</td>\n",
       "    </tr>\n",
       "    <tr>\n",
       "      <th>17</th>\n",
       "      <td></td>\n",
       "      <td></td>\n",
       "      <td>Total:</td>\n",
       "      <td>3,004.00</td>\n",
       "      <td>2,893.66</td>\n",
       "      <td>133.47</td>\n",
       "    </tr>\n",
       "  </tbody>\n",
       "</table>\n",
       "</div>"
      ],
      "text/plain": [
       "             0                                                  1  \\\n",
       "0               Statement of Transactions in Savings Account X...   \n",
       "1         DATE                                               MODE   \n",
       "2   01-06-2020                                                      \n",
       "3   19-06-2020                                                      \n",
       "4                                                                   \n",
       "5   20-06-2020                                                      \n",
       "6                                                                   \n",
       "7   22-06-2020                                                      \n",
       "8   22-06-2020                                                      \n",
       "9   29-06-2020                                                      \n",
       "10  29-06-2020                                                      \n",
       "11  29-06-2020                                                      \n",
       "12  29-06-2020                                                      \n",
       "13  29-06-2020                                                      \n",
       "14  29-06-2020                                                      \n",
       "15  29-06-2020                                                      \n",
       "16  30-06-2020                                                      \n",
       "17                                                                  \n",
       "\n",
       "                                                    2         3            4  \\\n",
       "0                                                                              \n",
       "1                                         PARTICULARS  DEPOSITS  WITHDRAWALS   \n",
       "2                                                 B/F                          \n",
       "3   UPI/017122030174/UPI/soniajain168@ok/Axis Bank...  1,000.00                \n",
       "4   UPI/017223057154/JIO20BR0004TLLU/jio@yesbank/Y...                          \n",
       "5                                                                     199.00   \n",
       "6                                                Ltd/                          \n",
       "7   UPI/017300130046/UPI/paytm-52031033@/Paytm Pay...                 120.00   \n",
       "8   UPI/017417267350/UPI/payzomato@hdfcb/HDFC BANK...                 326.24   \n",
       "9   UPI/017917810088/UPI/soniajain168@ok/Axis Bank...    500.00                \n",
       "10  UPI/017977507301/NA/7701835137@payt/Kotak Mahi...                 550.00   \n",
       "11  UPI/017977812234/NA/7701835137@payt/Kotak Mahi...                 100.00   \n",
       "12  UPI/018015212198/UPI/soniajain168@ok/Axis Bank...  1,500.00                \n",
       "13  UPI/018015194171/UPI/payzomato@hdfcb/HDFC BANK...                 773.97   \n",
       "14  UPI/018089053785/NA/7701835137@payt/Kotak Mahi...                 600.00   \n",
       "15       007201526159:Int.Pd:30-03-2020 to 28-06-2020      4.00                \n",
       "16  UPI/018216287560/UPI/payzomato@hdfcb/HDFC BANK...                 224.45   \n",
       "17                                             Total:  3,004.00     2,893.66   \n",
       "\n",
       "           5  \n",
       "0             \n",
       "1    BALANCE  \n",
       "2      23.13  \n",
       "3   1,023.13  \n",
       "4             \n",
       "5     824.13  \n",
       "6             \n",
       "7     704.13  \n",
       "8     377.89  \n",
       "9     877.89  \n",
       "10    327.89  \n",
       "11    227.89  \n",
       "12  1,727.89  \n",
       "13    953.92  \n",
       "14    353.92  \n",
       "15    357.92  \n",
       "16    133.47  \n",
       "17    133.47  "
      ]
     },
     "execution_count": 41,
     "metadata": {},
     "output_type": "execute_result"
    }
   ],
   "source": [
    "tables[0].df #BELOW IS THE MAIN TRANSACTIONS TABLE"
   ]
  },
  {
   "cell_type": "code",
   "execution_count": 42,
   "metadata": {},
   "outputs": [
    {
     "data": {
      "text/html": [
       "<div>\n",
       "<style scoped>\n",
       "    .dataframe tbody tr th:only-of-type {\n",
       "        vertical-align: middle;\n",
       "    }\n",
       "\n",
       "    .dataframe tbody tr th {\n",
       "        vertical-align: top;\n",
       "    }\n",
       "\n",
       "    .dataframe thead th {\n",
       "        text-align: right;\n",
       "    }\n",
       "</style>\n",
       "<table border=\"1\" class=\"dataframe\">\n",
       "  <thead>\n",
       "    <tr style=\"text-align: right;\">\n",
       "      <th></th>\n",
       "      <th>0</th>\n",
       "    </tr>\n",
       "  </thead>\n",
       "  <tbody>\n",
       "    <tr>\n",
       "      <th>0</th>\n",
       "      <td>Thank you for evaluating Wondershare PDF Passw...</td>\n",
       "    </tr>\n",
       "    <tr>\n",
       "      <th>1</th>\n",
       "      <td>You can only convert 5 pages with the trial ve...</td>\n",
       "    </tr>\n",
       "    <tr>\n",
       "      <th>2</th>\n",
       "      <td>To get all the pages converted, you need to pu...</td>\n",
       "    </tr>\n",
       "    <tr>\n",
       "      <th>3</th>\n",
       "      <td>http://cbs.wondershare.com/go.php?pid=526&amp;m=db</td>\n",
       "    </tr>\n",
       "  </tbody>\n",
       "</table>\n",
       "</div>"
      ],
      "text/plain": [
       "                                                   0\n",
       "0  Thank you for evaluating Wondershare PDF Passw...\n",
       "1  You can only convert 5 pages with the trial ve...\n",
       "2  To get all the pages converted, you need to pu...\n",
       "3     http://cbs.wondershare.com/go.php?pid=526&m=db"
      ]
     },
     "execution_count": 42,
     "metadata": {},
     "output_type": "execute_result"
    }
   ],
   "source": [
    "tables[1].df #THIS IS THE TABLE WE FOUND ON THE NEXT PAGE (THE PAGE ONLY HAS TEXT)"
   ]
  },
  {
   "cell_type": "markdown",
   "metadata": {},
   "source": [
    "WE SHOW A CONTOUR PLOT WITH TABLE AREA WHICH WAS DETECTED,OUTLINED."
   ]
  },
  {
   "cell_type": "code",
   "execution_count": 27,
   "metadata": {},
   "outputs": [
    {
     "data": {
      "image/png": "[encoded data removed]",
      "text/plain": [
       "<Figure size 432x288 with 1 Axes>"
      ]
     },
     "execution_count": 27,
     "metadata": {},
     "output_type": "execute_result"
    },
    {
     "data": {
      "image/png": "[encoded data removed]",
      "text/plain": [
       "<Figure size 432x288 with 1 Axes>"
      ]
     },
     "metadata": {
      "needs_background": "light"
     },
     "output_type": "display_data"
    }
   ],
   "source": [
    "cml.plot(tables[0], kind='contour')"
   ]
  },
  {
   "cell_type": "code",
   "execution_count": 28,
   "metadata": {},
   "outputs": [
    {
     "data": {
      "image/png": "[encoded data removed]",
      "text/plain": [
       "<Figure size 432x288 with 1 Axes>"
      ]
     },
     "execution_count": 28,
     "metadata": {},
     "output_type": "execute_result"
    },
    {
     "data": {
      "image/png": "[encoded data removed]",
      "text/plain": [
       "<Figure size 432x288 with 1 Axes>"
      ]
     },
     "metadata": {
      "needs_background": "light"
     },
     "output_type": "display_data"
    }
   ],
   "source": [
    "cml.plot(tables[1], kind='contour')"
   ]
  },
  {
   "cell_type": "markdown",
   "metadata": {},
   "source": [
    "NOW,WE USE ANOTHER WAY TO EXTRACT TABULAR DATA FROM THE PDF USING THE SAME METHOD-'READ_PDF'"
   ]
  },
  {
   "cell_type": "markdown",
   "metadata": {},
   "source": [
    "HERE,WE EXTRACT DATA FROM THE FIRST PAGE,USING THE TABLE AREAS PARAMETER ,WHICH TAKES ARGUMENTS X1,Y1,X2,Y2-WHICH ARE THE TOP-LEFT AND BOTTOM RIGHT COORDINATES OF THE TABLE.WE GOT THE COORDINATES FROM THE CONTOUR PLOT ABOVE."
   ]
  },
  {
   "cell_type": "code",
   "execution_count": 44,
   "metadata": {},
   "outputs": [
    {
     "data": {
      "text/plain": [
       "<TableList n=1>"
      ]
     },
     "execution_count": 44,
     "metadata": {},
     "output_type": "execute_result"
    }
   ],
   "source": [
    "tables_second_method=cml.read_pdf('pdfDecrypted.pdf',flavor='stream',table_areas=['0,520,600,320'])\n",
    "tables_second_method"
   ]
  },
  {
   "cell_type": "code",
   "execution_count": 30,
   "metadata": {},
   "outputs": [
    {
     "data": {
      "text/html": [
       "<div>\n",
       "<style scoped>\n",
       "    .dataframe tbody tr th:only-of-type {\n",
       "        vertical-align: middle;\n",
       "    }\n",
       "\n",
       "    .dataframe tbody tr th {\n",
       "        vertical-align: top;\n",
       "    }\n",
       "\n",
       "    .dataframe thead th {\n",
       "        text-align: right;\n",
       "    }\n",
       "</style>\n",
       "<table border=\"1\" class=\"dataframe\">\n",
       "  <thead>\n",
       "    <tr style=\"text-align: right;\">\n",
       "      <th></th>\n",
       "      <th>0</th>\n",
       "      <th>1</th>\n",
       "      <th>2</th>\n",
       "      <th>3</th>\n",
       "      <th>4</th>\n",
       "      <th>5</th>\n",
       "    </tr>\n",
       "  </thead>\n",
       "  <tbody>\n",
       "    <tr>\n",
       "      <th>0</th>\n",
       "      <td>DATE</td>\n",
       "      <td>MODE</td>\n",
       "      <td>PARTICULARS</td>\n",
       "      <td>DEPOSITS</td>\n",
       "      <td>WITHDRAWALS</td>\n",
       "      <td>BALANCE</td>\n",
       "    </tr>\n",
       "    <tr>\n",
       "      <th>1</th>\n",
       "      <td>01-06-2020</td>\n",
       "      <td></td>\n",
       "      <td>B/F</td>\n",
       "      <td></td>\n",
       "      <td></td>\n",
       "      <td>23.13</td>\n",
       "    </tr>\n",
       "    <tr>\n",
       "      <th>2</th>\n",
       "      <td>19-06-2020</td>\n",
       "      <td></td>\n",
       "      <td>UPI/017122030174/UPI/soniajain168@ok/Axis Bank...</td>\n",
       "      <td>1,000.00</td>\n",
       "      <td></td>\n",
       "      <td>1,023.13</td>\n",
       "    </tr>\n",
       "    <tr>\n",
       "      <th>3</th>\n",
       "      <td></td>\n",
       "      <td></td>\n",
       "      <td>UPI/017223057154/JIO20BR0004TLLU/jio@yesbank/Y...</td>\n",
       "      <td></td>\n",
       "      <td></td>\n",
       "      <td></td>\n",
       "    </tr>\n",
       "    <tr>\n",
       "      <th>4</th>\n",
       "      <td>20-06-2020</td>\n",
       "      <td></td>\n",
       "      <td></td>\n",
       "      <td></td>\n",
       "      <td>199.00</td>\n",
       "      <td>824.13</td>\n",
       "    </tr>\n",
       "    <tr>\n",
       "      <th>5</th>\n",
       "      <td></td>\n",
       "      <td></td>\n",
       "      <td>Ltd/</td>\n",
       "      <td></td>\n",
       "      <td></td>\n",
       "      <td></td>\n",
       "    </tr>\n",
       "    <tr>\n",
       "      <th>6</th>\n",
       "      <td>22-06-2020</td>\n",
       "      <td></td>\n",
       "      <td>UPI/017300130046/UPI/paytm-52031033@/Paytm Pay...</td>\n",
       "      <td></td>\n",
       "      <td>120.00</td>\n",
       "      <td>704.13</td>\n",
       "    </tr>\n",
       "    <tr>\n",
       "      <th>7</th>\n",
       "      <td>22-06-2020</td>\n",
       "      <td></td>\n",
       "      <td>UPI/017417267350/UPI/payzomato@hdfcb/HDFC BANK...</td>\n",
       "      <td></td>\n",
       "      <td>326.24</td>\n",
       "      <td>377.89</td>\n",
       "    </tr>\n",
       "    <tr>\n",
       "      <th>8</th>\n",
       "      <td>29-06-2020</td>\n",
       "      <td></td>\n",
       "      <td>UPI/017917810088/UPI/soniajain168@ok/Axis Bank...</td>\n",
       "      <td>500.00</td>\n",
       "      <td></td>\n",
       "      <td>877.89</td>\n",
       "    </tr>\n",
       "    <tr>\n",
       "      <th>9</th>\n",
       "      <td>29-06-2020</td>\n",
       "      <td></td>\n",
       "      <td>UPI/017977507301/NA/7701835137@payt/Kotak Mahi...</td>\n",
       "      <td></td>\n",
       "      <td>550.00</td>\n",
       "      <td>327.89</td>\n",
       "    </tr>\n",
       "    <tr>\n",
       "      <th>10</th>\n",
       "      <td>29-06-2020</td>\n",
       "      <td></td>\n",
       "      <td>UPI/017977812234/NA/7701835137@payt/Kotak Mahi...</td>\n",
       "      <td></td>\n",
       "      <td>100.00</td>\n",
       "      <td>227.89</td>\n",
       "    </tr>\n",
       "    <tr>\n",
       "      <th>11</th>\n",
       "      <td>29-06-2020</td>\n",
       "      <td></td>\n",
       "      <td>UPI/018015212198/UPI/soniajain168@ok/Axis Bank...</td>\n",
       "      <td>1,500.00</td>\n",
       "      <td></td>\n",
       "      <td>1,727.89</td>\n",
       "    </tr>\n",
       "    <tr>\n",
       "      <th>12</th>\n",
       "      <td>29-06-2020</td>\n",
       "      <td></td>\n",
       "      <td>UPI/018015194171/UPI/payzomato@hdfcb/HDFC BANK...</td>\n",
       "      <td></td>\n",
       "      <td>773.97</td>\n",
       "      <td>953.92</td>\n",
       "    </tr>\n",
       "    <tr>\n",
       "      <th>13</th>\n",
       "      <td>29-06-2020</td>\n",
       "      <td></td>\n",
       "      <td>UPI/018089053785/NA/7701835137@payt/Kotak Mahi...</td>\n",
       "      <td></td>\n",
       "      <td>600.00</td>\n",
       "      <td>353.92</td>\n",
       "    </tr>\n",
       "    <tr>\n",
       "      <th>14</th>\n",
       "      <td>29-06-2020</td>\n",
       "      <td></td>\n",
       "      <td>007201526159:Int.Pd:30-03-2020 to 28-06-2020</td>\n",
       "      <td>4.00</td>\n",
       "      <td></td>\n",
       "      <td>357.92</td>\n",
       "    </tr>\n",
       "    <tr>\n",
       "      <th>15</th>\n",
       "      <td>30-06-2020</td>\n",
       "      <td></td>\n",
       "      <td>UPI/018216287560/UPI/payzomato@hdfcb/HDFC BANK...</td>\n",
       "      <td></td>\n",
       "      <td>224.45</td>\n",
       "      <td>133.47</td>\n",
       "    </tr>\n",
       "    <tr>\n",
       "      <th>16</th>\n",
       "      <td></td>\n",
       "      <td></td>\n",
       "      <td>Total:</td>\n",
       "      <td>3,004.00</td>\n",
       "      <td>2,893.66</td>\n",
       "      <td>133.47</td>\n",
       "    </tr>\n",
       "  </tbody>\n",
       "</table>\n",
       "</div>"
      ],
      "text/plain": [
       "             0     1                                                  2  \\\n",
       "0         DATE  MODE                                        PARTICULARS   \n",
       "1   01-06-2020                                                      B/F   \n",
       "2   19-06-2020        UPI/017122030174/UPI/soniajain168@ok/Axis Bank...   \n",
       "3                     UPI/017223057154/JIO20BR0004TLLU/jio@yesbank/Y...   \n",
       "4   20-06-2020                                                            \n",
       "5                                                                  Ltd/   \n",
       "6   22-06-2020        UPI/017300130046/UPI/paytm-52031033@/Paytm Pay...   \n",
       "7   22-06-2020        UPI/017417267350/UPI/payzomato@hdfcb/HDFC BANK...   \n",
       "8   29-06-2020        UPI/017917810088/UPI/soniajain168@ok/Axis Bank...   \n",
       "9   29-06-2020        UPI/017977507301/NA/7701835137@payt/Kotak Mahi...   \n",
       "10  29-06-2020        UPI/017977812234/NA/7701835137@payt/Kotak Mahi...   \n",
       "11  29-06-2020        UPI/018015212198/UPI/soniajain168@ok/Axis Bank...   \n",
       "12  29-06-2020        UPI/018015194171/UPI/payzomato@hdfcb/HDFC BANK...   \n",
       "13  29-06-2020        UPI/018089053785/NA/7701835137@payt/Kotak Mahi...   \n",
       "14  29-06-2020             007201526159:Int.Pd:30-03-2020 to 28-06-2020   \n",
       "15  30-06-2020        UPI/018216287560/UPI/payzomato@hdfcb/HDFC BANK...   \n",
       "16                                                               Total:   \n",
       "\n",
       "           3            4         5  \n",
       "0   DEPOSITS  WITHDRAWALS   BALANCE  \n",
       "1                             23.13  \n",
       "2   1,000.00               1,023.13  \n",
       "3                                    \n",
       "4                  199.00    824.13  \n",
       "5                                    \n",
       "6                  120.00    704.13  \n",
       "7                  326.24    377.89  \n",
       "8     500.00                 877.89  \n",
       "9                  550.00    327.89  \n",
       "10                 100.00    227.89  \n",
       "11  1,500.00               1,727.89  \n",
       "12                 773.97    953.92  \n",
       "13                 600.00    353.92  \n",
       "14      4.00                 357.92  \n",
       "15                 224.45    133.47  \n",
       "16  3,004.00     2,893.66    133.47  "
      ]
     },
     "execution_count": 30,
     "metadata": {},
     "output_type": "execute_result"
    }
   ],
   "source": [
    "tables_second_method[0].df "
   ]
  },
  {
   "cell_type": "code",
   "execution_count": 32,
   "metadata": {},
   "outputs": [
    {
     "data": {
      "image/png": "[encoded data removed]",
      "text/plain": [
       "<Figure size 432x288 with 1 Axes>"
      ]
     },
     "execution_count": 32,
     "metadata": {},
     "output_type": "execute_result"
    },
    {
     "data": {
      "image/png": "[encoded data removed]",
      "text/plain": [
       "<Figure size 432x288 with 1 Axes>"
      ]
     },
     "metadata": {
      "needs_background": "light"
     },
     "output_type": "display_data"
    }
   ],
   "source": [
    "cml.plot(tables_second_method[0], kind='contour')"
   ]
  },
  {
   "cell_type": "markdown",
   "metadata": {},
   "source": [
    "THROUGH THE SAME PARAMETER WE FIND OTHER TABLES IN THE PDF "
   ]
  },
  {
   "cell_type": "code",
   "execution_count": 34,
   "metadata": {},
   "outputs": [
    {
     "data": {
      "text/plain": [
       "<TableList n=1>"
      ]
     },
     "execution_count": 34,
     "metadata": {},
     "output_type": "execute_result"
    }
   ],
   "source": [
    "tables_second_method2=cml.read_pdf('pdfDecrypted.pdf',flavor='stream',table_areas=['0,600,600,550'])\n",
    "tables_second_method2"
   ]
  },
  {
   "cell_type": "code",
   "execution_count": 35,
   "metadata": {},
   "outputs": [
    {
     "data": {
      "text/html": [
       "<div>\n",
       "<style scoped>\n",
       "    .dataframe tbody tr th:only-of-type {\n",
       "        vertical-align: middle;\n",
       "    }\n",
       "\n",
       "    .dataframe tbody tr th {\n",
       "        vertical-align: top;\n",
       "    }\n",
       "\n",
       "    .dataframe thead th {\n",
       "        text-align: right;\n",
       "    }\n",
       "</style>\n",
       "<table border=\"1\" class=\"dataframe\">\n",
       "  <thead>\n",
       "    <tr style=\"text-align: right;\">\n",
       "      <th></th>\n",
       "      <th>0</th>\n",
       "      <th>1</th>\n",
       "      <th>2</th>\n",
       "      <th>3</th>\n",
       "      <th>4</th>\n",
       "    </tr>\n",
       "  </thead>\n",
       "  <tbody>\n",
       "    <tr>\n",
       "      <th>0</th>\n",
       "      <td>ACCOUNT TYPE</td>\n",
       "      <td>A/C. BALANCE  (I)</td>\n",
       "      <td>FIXED DEPOSITS (LINKED) BAL. (II)</td>\n",
       "      <td>TOTAL BALANCE  (I+II)</td>\n",
       "      <td>NOMINATION</td>\n",
       "    </tr>\n",
       "    <tr>\n",
       "      <th>1</th>\n",
       "      <td>Savings A/c XXXXXXXX6159</td>\n",
       "      <td>133.47</td>\n",
       "      <td>0.00</td>\n",
       "      <td>133.47</td>\n",
       "      <td>Registered</td>\n",
       "    </tr>\n",
       "    <tr>\n",
       "      <th>2</th>\n",
       "      <td>TOTAL</td>\n",
       "      <td>133.47</td>\n",
       "      <td>0.00</td>\n",
       "      <td>133.47</td>\n",
       "      <td></td>\n",
       "    </tr>\n",
       "  </tbody>\n",
       "</table>\n",
       "</div>"
      ],
      "text/plain": [
       "                          0                  1  \\\n",
       "0              ACCOUNT TYPE  A/C. BALANCE  (I)   \n",
       "1  Savings A/c XXXXXXXX6159             133.47   \n",
       "2                     TOTAL             133.47   \n",
       "\n",
       "                                   2                      3           4  \n",
       "0  FIXED DEPOSITS (LINKED) BAL. (II)  TOTAL BALANCE  (I+II)  NOMINATION  \n",
       "1                               0.00                 133.47  Registered  \n",
       "2                               0.00                 133.47              "
      ]
     },
     "execution_count": 35,
     "metadata": {},
     "output_type": "execute_result"
    }
   ],
   "source": [
    "tables_second_method2[0].df"
   ]
  },
  {
   "cell_type": "code",
   "execution_count": 36,
   "metadata": {},
   "outputs": [
    {
     "data": {
      "image/png": "[encoded data removed]",
      "text/plain": [
       "<Figure size 432x288 with 1 Axes>"
      ]
     },
     "execution_count": 36,
     "metadata": {},
     "output_type": "execute_result"
    },
    {
     "data": {
      "image/png": "[encoded data removed]",
      "text/plain": [
       "<Figure size 432x288 with 1 Axes>"
      ]
     },
     "metadata": {
      "needs_background": "light"
     },
     "output_type": "display_data"
    }
   ],
   "source": [
    "cml.plot(tables_second_method2[0], kind='contour')"
   ]
  },
  {
   "cell_type": "code",
   "execution_count": 37,
   "metadata": {},
   "outputs": [
    {
     "data": {
      "text/plain": [
       "<TableList n=1>"
      ]
     },
     "execution_count": 37,
     "metadata": {},
     "output_type": "execute_result"
    }
   ],
   "source": [
    "tables_second_method3=cml.read_pdf('pdfDecrypted.pdf',flavor='stream',table_areas=['0,210,600,180'])\n",
    "tables_second_method3"
   ]
  },
  {
   "cell_type": "code",
   "execution_count": 38,
   "metadata": {},
   "outputs": [
    {
     "data": {
      "text/html": [
       "<div>\n",
       "<style scoped>\n",
       "    .dataframe tbody tr th:only-of-type {\n",
       "        vertical-align: middle;\n",
       "    }\n",
       "\n",
       "    .dataframe tbody tr th {\n",
       "        vertical-align: top;\n",
       "    }\n",
       "\n",
       "    .dataframe thead th {\n",
       "        text-align: right;\n",
       "    }\n",
       "</style>\n",
       "<table border=\"1\" class=\"dataframe\">\n",
       "  <thead>\n",
       "    <tr style=\"text-align: right;\">\n",
       "      <th></th>\n",
       "      <th>0</th>\n",
       "      <th>1</th>\n",
       "      <th>2</th>\n",
       "      <th>3</th>\n",
       "      <th>4</th>\n",
       "    </tr>\n",
       "  </thead>\n",
       "  <tbody>\n",
       "    <tr>\n",
       "      <th>0</th>\n",
       "      <td>ACCOUNT TYPE</td>\n",
       "      <td>ACCOUNT NUMBER</td>\n",
       "      <td>MICR CODE</td>\n",
       "      <td>IFS CODE</td>\n",
       "      <td>NAME OF NOMINEE*</td>\n",
       "    </tr>\n",
       "    <tr>\n",
       "      <th>1</th>\n",
       "      <td>Savings</td>\n",
       "      <td>XXXXXXXX6159</td>\n",
       "      <td>576229002</td>\n",
       "      <td>ICIC0000072</td>\n",
       "      <td>-</td>\n",
       "    </tr>\n",
       "  </tbody>\n",
       "</table>\n",
       "</div>"
      ],
      "text/plain": [
       "              0               1          2            3                 4\n",
       "0  ACCOUNT TYPE  ACCOUNT NUMBER  MICR CODE     IFS CODE  NAME OF NOMINEE*\n",
       "1       Savings    XXXXXXXX6159  576229002  ICIC0000072                 -"
      ]
     },
     "execution_count": 38,
     "metadata": {},
     "output_type": "execute_result"
    }
   ],
   "source": [
    "tables_second_method3[0].df"
   ]
  },
  {
   "cell_type": "code",
   "execution_count": 39,
   "metadata": {},
   "outputs": [
    {
     "data": {
      "image/png": "[encoded data removed]",
      "text/plain": [
       "<Figure size 432x288 with 1 Axes>"
      ]
     },
     "execution_count": 39,
     "metadata": {},
     "output_type": "execute_result"
    },
    {
     "data": {
      "image/png": "[encoded data removed]",
      "text/plain": [
       "<Figure size 432x288 with 1 Axes>"
      ]
     },
     "metadata": {
      "needs_background": "light"
     },
     "output_type": "display_data"
    }
   ],
   "source": [
    "cml.plot(tables_second_method3[0], kind='contour')"
   ]
  },
  {
   "cell_type": "markdown",
   "metadata": {},
   "source": [
    "MAKING PROPER DATAFRAMES FROM THE TABLES WE PROCURED"
   ]
  },
  {
   "cell_type": "code",
   "execution_count": 45,
   "metadata": {},
   "outputs": [],
   "source": [
    "table_1=tables_second_method[0].df"
   ]
  },
  {
   "cell_type": "code",
   "execution_count": 54,
   "metadata": {},
   "outputs": [],
   "source": [
    "table_1.columns=table_1.iloc[0].values.tolist()"
   ]
  },
  {
   "cell_type": "code",
   "execution_count": 60,
   "metadata": {},
   "outputs": [],
   "source": [
    "table_1.drop(0,axis=0,inplace=True)"
   ]
  },
  {
   "cell_type": "code",
   "execution_count": 61,
   "metadata": {},
   "outputs": [],
   "source": [
    "table_2=tables_second_method2[0].df\n",
    "table_2.columns=table_2.iloc[0].values.tolist()\n",
    "table_2.drop(0,axis=0,inplace=True)"
   ]
  },
  {
   "cell_type": "code",
   "execution_count": 62,
   "metadata": {},
   "outputs": [],
   "source": [
    "table_3=tables_second_method3[0].df\n",
    "table_3.columns=table_3.iloc[0].values.tolist()\n",
    "table_3.drop(0,axis=0,inplace=True)"
   ]
  },
  {
   "cell_type": "code",
   "execution_count": 63,
   "metadata": {},
   "outputs": [
    {
     "data": {
      "text/html": [
       "<div>\n",
       "<style scoped>\n",
       "    .dataframe tbody tr th:only-of-type {\n",
       "        vertical-align: middle;\n",
       "    }\n",
       "\n",
       "    .dataframe tbody tr th {\n",
       "        vertical-align: top;\n",
       "    }\n",
       "\n",
       "    .dataframe thead th {\n",
       "        text-align: right;\n",
       "    }\n",
       "</style>\n",
       "<table border=\"1\" class=\"dataframe\">\n",
       "  <thead>\n",
       "    <tr style=\"text-align: right;\">\n",
       "      <th></th>\n",
       "      <th>DATE</th>\n",
       "      <th>MODE</th>\n",
       "      <th>PARTICULARS</th>\n",
       "      <th>DEPOSITS</th>\n",
       "      <th>WITHDRAWALS</th>\n",
       "      <th>BALANCE</th>\n",
       "    </tr>\n",
       "  </thead>\n",
       "  <tbody>\n",
       "    <tr>\n",
       "      <th>1</th>\n",
       "      <td>01-06-2020</td>\n",
       "      <td></td>\n",
       "      <td>B/F</td>\n",
       "      <td></td>\n",
       "      <td></td>\n",
       "      <td>23.13</td>\n",
       "    </tr>\n",
       "    <tr>\n",
       "      <th>2</th>\n",
       "      <td>19-06-2020</td>\n",
       "      <td></td>\n",
       "      <td>UPI/017122030174/UPI/soniajain168@ok/Axis Bank...</td>\n",
       "      <td>1,000.00</td>\n",
       "      <td></td>\n",
       "      <td>1,023.13</td>\n",
       "    </tr>\n",
       "    <tr>\n",
       "      <th>3</th>\n",
       "      <td></td>\n",
       "      <td></td>\n",
       "      <td>UPI/017223057154/JIO20BR0004TLLU/jio@yesbank/Y...</td>\n",
       "      <td></td>\n",
       "      <td></td>\n",
       "      <td></td>\n",
       "    </tr>\n",
       "    <tr>\n",
       "      <th>4</th>\n",
       "      <td>20-06-2020</td>\n",
       "      <td></td>\n",
       "      <td></td>\n",
       "      <td></td>\n",
       "      <td>199.00</td>\n",
       "      <td>824.13</td>\n",
       "    </tr>\n",
       "    <tr>\n",
       "      <th>5</th>\n",
       "      <td></td>\n",
       "      <td></td>\n",
       "      <td>Ltd/</td>\n",
       "      <td></td>\n",
       "      <td></td>\n",
       "      <td></td>\n",
       "    </tr>\n",
       "    <tr>\n",
       "      <th>6</th>\n",
       "      <td>22-06-2020</td>\n",
       "      <td></td>\n",
       "      <td>UPI/017300130046/UPI/paytm-52031033@/Paytm Pay...</td>\n",
       "      <td></td>\n",
       "      <td>120.00</td>\n",
       "      <td>704.13</td>\n",
       "    </tr>\n",
       "    <tr>\n",
       "      <th>7</th>\n",
       "      <td>22-06-2020</td>\n",
       "      <td></td>\n",
       "      <td>UPI/017417267350/UPI/payzomato@hdfcb/HDFC BANK...</td>\n",
       "      <td></td>\n",
       "      <td>326.24</td>\n",
       "      <td>377.89</td>\n",
       "    </tr>\n",
       "    <tr>\n",
       "      <th>8</th>\n",
       "      <td>29-06-2020</td>\n",
       "      <td></td>\n",
       "      <td>UPI/017917810088/UPI/soniajain168@ok/Axis Bank...</td>\n",
       "      <td>500.00</td>\n",
       "      <td></td>\n",
       "      <td>877.89</td>\n",
       "    </tr>\n",
       "    <tr>\n",
       "      <th>9</th>\n",
       "      <td>29-06-2020</td>\n",
       "      <td></td>\n",
       "      <td>UPI/017977507301/NA/7701835137@payt/Kotak Mahi...</td>\n",
       "      <td></td>\n",
       "      <td>550.00</td>\n",
       "      <td>327.89</td>\n",
       "    </tr>\n",
       "    <tr>\n",
       "      <th>10</th>\n",
       "      <td>29-06-2020</td>\n",
       "      <td></td>\n",
       "      <td>UPI/017977812234/NA/7701835137@payt/Kotak Mahi...</td>\n",
       "      <td></td>\n",
       "      <td>100.00</td>\n",
       "      <td>227.89</td>\n",
       "    </tr>\n",
       "    <tr>\n",
       "      <th>11</th>\n",
       "      <td>29-06-2020</td>\n",
       "      <td></td>\n",
       "      <td>UPI/018015212198/UPI/soniajain168@ok/Axis Bank...</td>\n",
       "      <td>1,500.00</td>\n",
       "      <td></td>\n",
       "      <td>1,727.89</td>\n",
       "    </tr>\n",
       "    <tr>\n",
       "      <th>12</th>\n",
       "      <td>29-06-2020</td>\n",
       "      <td></td>\n",
       "      <td>UPI/018015194171/UPI/payzomato@hdfcb/HDFC BANK...</td>\n",
       "      <td></td>\n",
       "      <td>773.97</td>\n",
       "      <td>953.92</td>\n",
       "    </tr>\n",
       "    <tr>\n",
       "      <th>13</th>\n",
       "      <td>29-06-2020</td>\n",
       "      <td></td>\n",
       "      <td>UPI/018089053785/NA/7701835137@payt/Kotak Mahi...</td>\n",
       "      <td></td>\n",
       "      <td>600.00</td>\n",
       "      <td>353.92</td>\n",
       "    </tr>\n",
       "    <tr>\n",
       "      <th>14</th>\n",
       "      <td>29-06-2020</td>\n",
       "      <td></td>\n",
       "      <td>007201526159:Int.Pd:30-03-2020 to 28-06-2020</td>\n",
       "      <td>4.00</td>\n",
       "      <td></td>\n",
       "      <td>357.92</td>\n",
       "    </tr>\n",
       "    <tr>\n",
       "      <th>15</th>\n",
       "      <td>30-06-2020</td>\n",
       "      <td></td>\n",
       "      <td>UPI/018216287560/UPI/payzomato@hdfcb/HDFC BANK...</td>\n",
       "      <td></td>\n",
       "      <td>224.45</td>\n",
       "      <td>133.47</td>\n",
       "    </tr>\n",
       "    <tr>\n",
       "      <th>16</th>\n",
       "      <td></td>\n",
       "      <td></td>\n",
       "      <td>Total:</td>\n",
       "      <td>3,004.00</td>\n",
       "      <td>2,893.66</td>\n",
       "      <td>133.47</td>\n",
       "    </tr>\n",
       "  </tbody>\n",
       "</table>\n",
       "</div>"
      ],
      "text/plain": [
       "          DATE MODE                                        PARTICULARS  \\\n",
       "1   01-06-2020                                                     B/F   \n",
       "2   19-06-2020       UPI/017122030174/UPI/soniajain168@ok/Axis Bank...   \n",
       "3                    UPI/017223057154/JIO20BR0004TLLU/jio@yesbank/Y...   \n",
       "4   20-06-2020                                                           \n",
       "5                                                                 Ltd/   \n",
       "6   22-06-2020       UPI/017300130046/UPI/paytm-52031033@/Paytm Pay...   \n",
       "7   22-06-2020       UPI/017417267350/UPI/payzomato@hdfcb/HDFC BANK...   \n",
       "8   29-06-2020       UPI/017917810088/UPI/soniajain168@ok/Axis Bank...   \n",
       "9   29-06-2020       UPI/017977507301/NA/7701835137@payt/Kotak Mahi...   \n",
       "10  29-06-2020       UPI/017977812234/NA/7701835137@payt/Kotak Mahi...   \n",
       "11  29-06-2020       UPI/018015212198/UPI/soniajain168@ok/Axis Bank...   \n",
       "12  29-06-2020       UPI/018015194171/UPI/payzomato@hdfcb/HDFC BANK...   \n",
       "13  29-06-2020       UPI/018089053785/NA/7701835137@payt/Kotak Mahi...   \n",
       "14  29-06-2020            007201526159:Int.Pd:30-03-2020 to 28-06-2020   \n",
       "15  30-06-2020       UPI/018216287560/UPI/payzomato@hdfcb/HDFC BANK...   \n",
       "16                                                              Total:   \n",
       "\n",
       "    DEPOSITS WITHDRAWALS   BALANCE  \n",
       "1                            23.13  \n",
       "2   1,000.00              1,023.13  \n",
       "3                                   \n",
       "4                 199.00    824.13  \n",
       "5                                   \n",
       "6                 120.00    704.13  \n",
       "7                 326.24    377.89  \n",
       "8     500.00                877.89  \n",
       "9                 550.00    327.89  \n",
       "10                100.00    227.89  \n",
       "11  1,500.00              1,727.89  \n",
       "12                773.97    953.92  \n",
       "13                600.00    353.92  \n",
       "14      4.00                357.92  \n",
       "15                224.45    133.47  \n",
       "16  3,004.00    2,893.66    133.47  "
      ]
     },
     "execution_count": 63,
     "metadata": {},
     "output_type": "execute_result"
    }
   ],
   "source": [
    "table_1"
   ]
  },
  {
   "cell_type": "code",
   "execution_count": 64,
   "metadata": {},
   "outputs": [
    {
     "data": {
      "text/html": [
       "<div>\n",
       "<style scoped>\n",
       "    .dataframe tbody tr th:only-of-type {\n",
       "        vertical-align: middle;\n",
       "    }\n",
       "\n",
       "    .dataframe tbody tr th {\n",
       "        vertical-align: top;\n",
       "    }\n",
       "\n",
       "    .dataframe thead th {\n",
       "        text-align: right;\n",
       "    }\n",
       "</style>\n",
       "<table border=\"1\" class=\"dataframe\">\n",
       "  <thead>\n",
       "    <tr style=\"text-align: right;\">\n",
       "      <th></th>\n",
       "      <th>ACCOUNT TYPE</th>\n",
       "      <th>A/C. BALANCE  (I)</th>\n",
       "      <th>FIXED DEPOSITS (LINKED) BAL. (II)</th>\n",
       "      <th>TOTAL BALANCE  (I+II)</th>\n",
       "      <th>NOMINATION</th>\n",
       "    </tr>\n",
       "  </thead>\n",
       "  <tbody>\n",
       "    <tr>\n",
       "      <th>1</th>\n",
       "      <td>Savings A/c XXXXXXXX6159</td>\n",
       "      <td>133.47</td>\n",
       "      <td>0.00</td>\n",
       "      <td>133.47</td>\n",
       "      <td>Registered</td>\n",
       "    </tr>\n",
       "    <tr>\n",
       "      <th>2</th>\n",
       "      <td>TOTAL</td>\n",
       "      <td>133.47</td>\n",
       "      <td>0.00</td>\n",
       "      <td>133.47</td>\n",
       "      <td></td>\n",
       "    </tr>\n",
       "  </tbody>\n",
       "</table>\n",
       "</div>"
      ],
      "text/plain": [
       "               ACCOUNT TYPE A/C. BALANCE  (I)  \\\n",
       "1  Savings A/c XXXXXXXX6159            133.47   \n",
       "2                     TOTAL            133.47   \n",
       "\n",
       "  FIXED DEPOSITS (LINKED) BAL. (II) TOTAL BALANCE  (I+II)  NOMINATION  \n",
       "1                              0.00                133.47  Registered  \n",
       "2                              0.00                133.47              "
      ]
     },
     "execution_count": 64,
     "metadata": {},
     "output_type": "execute_result"
    }
   ],
   "source": [
    "table_2"
   ]
  },
  {
   "cell_type": "code",
   "execution_count": 65,
   "metadata": {},
   "outputs": [
    {
     "data": {
      "text/html": [
       "<div>\n",
       "<style scoped>\n",
       "    .dataframe tbody tr th:only-of-type {\n",
       "        vertical-align: middle;\n",
       "    }\n",
       "\n",
       "    .dataframe tbody tr th {\n",
       "        vertical-align: top;\n",
       "    }\n",
       "\n",
       "    .dataframe thead th {\n",
       "        text-align: right;\n",
       "    }\n",
       "</style>\n",
       "<table border=\"1\" class=\"dataframe\">\n",
       "  <thead>\n",
       "    <tr style=\"text-align: right;\">\n",
       "      <th></th>\n",
       "      <th>ACCOUNT TYPE</th>\n",
       "      <th>ACCOUNT NUMBER</th>\n",
       "      <th>MICR CODE</th>\n",
       "      <th>IFS CODE</th>\n",
       "      <th>NAME OF NOMINEE*</th>\n",
       "    </tr>\n",
       "  </thead>\n",
       "  <tbody>\n",
       "    <tr>\n",
       "      <th>1</th>\n",
       "      <td>Savings</td>\n",
       "      <td>XXXXXXXX6159</td>\n",
       "      <td>576229002</td>\n",
       "      <td>ICIC0000072</td>\n",
       "      <td>-</td>\n",
       "    </tr>\n",
       "  </tbody>\n",
       "</table>\n",
       "</div>"
      ],
      "text/plain": [
       "  ACCOUNT TYPE ACCOUNT NUMBER  MICR CODE     IFS CODE NAME OF NOMINEE*\n",
       "1      Savings   XXXXXXXX6159  576229002  ICIC0000072                -"
      ]
     },
     "execution_count": 65,
     "metadata": {},
     "output_type": "execute_result"
    }
   ],
   "source": [
    "table_3"
   ]
  },
  {
   "cell_type": "code",
   "execution_count": null,
   "metadata": {},
   "outputs": [],
   "source": []
  }
 ],
 "metadata": {
  "kernelspec": {
   "display_name": "Python 3",
   "language": "python",
   "name": "python3"
  },
  "language_info": {
   "codemirror_mode": {
    "name": "ipython",
    "version": 3
   },
   "file_extension": ".py",
   "mimetype": "text/x-python",
   "name": "python",
   "nbconvert_exporter": "python",
   "pygments_lexer": "ipython3",
   "version": "3.7.6"
  }
 },
 "nbformat": 4,
 "nbformat_minor": 4
}
